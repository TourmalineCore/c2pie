{
 "cells": [
  {
   "cell_type": "code",
   "execution_count": 1,
   "id": "ef7040bc-9a8a-4fa9-b39b-75ca9c9b64d3",
   "metadata": {},
   "outputs": [
    {
     "name": "stdout",
     "output_type": "stream",
     "text": [
      "Successfully signed the file ../test_files/test_image.jpg!\n",
      "The result was saved to ../test_files/signed_test_image.jpg.\n"
     ]
    }
   ],
   "source": [
    "!c2pie sign --input_file ../test_files/test_image.jpg"
   ]
  },
  {
   "cell_type": "code",
   "execution_count": 2,
   "id": "212fd5cf-5286-49a9-bf86-809851870207",
   "metadata": {},
   "outputs": [
    {
     "name": "stdout",
     "output_type": "stream",
     "text": [
      "Successfully signed the file ../test_files/test_doc.pdf!\n",
      "The result was saved to ../test_files/signed_test_doc.pdf.\n"
     ]
    }
   ],
   "source": [
    "!c2pie sign --input_file ../test_files/test_doc.pdf"
   ]
  },
  {
   "cell_type": "code",
   "execution_count": 3,
   "id": "9fd55f54-1937-48e5-ac6d-284fef052d30",
   "metadata": {},
   "outputs": [
    {
     "name": "stdout",
     "output_type": "stream",
     "text": [
      "Successfully signed the file ../test_files/test_image.jpg!\n",
      "The result was saved to ../test_files/signed_test_image.jpg.\n"
     ]
    }
   ],
   "source": [
    "from c2pie.signing import sign_file\n",
    "\n",
    "input_file_path = \"../test_files/test_image.jpg\"\n",
    "sign_file(input_path=input_file_path)"
   ]
  },
  {
   "cell_type": "code",
   "execution_count": 4,
   "id": "de6386ea-971d-407a-8fb6-671ae0875d46",
   "metadata": {},
   "outputs": [
    {
     "name": "stdout",
     "output_type": "stream",
     "text": [
      "{\n",
      "  \"active_manifest\": \"urn:uuid:3636070ba33f4e2d85bbd5076e88de8a\",\n",
      "  \"manifests\": {\n",
      "    \"urn:uuid:3636070ba33f4e2d85bbd5076e88de8a\": {\n",
      "      \"claim_generator\": \"c2pie\",\n",
      "      \"format\": \"image/jpg\",\n",
      "      \"instance_id\": \"xmp:iid:43fd3da1-c28a-4099-bca4-bcf206416c7c\",\n",
      "      \"ingredients\": [],\n",
      "      \"assertions\": [\n",
      "        {\n",
      "          \"label\": \"stds.schema-org.CreativeWork\",\n",
      "          \"data\": {\n",
      "            \"@context\": \"https://schema.org\",\n",
      "            \"@type\": \"CreativeWork\",\n",
      "            \"author\": [\n",
      "              {\n",
      "                \"@type\": \"Organization\",\n",
      "                \"name\": \"Tourmaline Core\"\n",
      "              }\n",
      "            ],\n",
      "            \"copyrightYear\": \"2026\",\n",
      "            \"copyrightHolder\": \"c2pie\"\n",
      "          },\n",
      "          \"kind\": \"Json\"\n",
      "        }\n",
      "      ],\n",
      "      \"signature_info\": {\n",
      "        \"alg\": \"Ps256\",\n",
      "        \"issuer\": \"C2PA Test Signing Cert\",\n",
      "        \"common_name\": \"C2PA Signer\",\n",
      "        \"cert_serial_number\": \"720724073027128164015125666832722375746636448153\"\n",
      "      },\n",
      "      \"label\": \"urn:uuid:3636070ba33f4e2d85bbd5076e88de8a\"\n",
      "    }\n",
      "  },\n",
      "  \"validation_results\": {\n",
      "    \"activeManifest\": {\n",
      "      \"success\": [\n",
      "        {\n",
      "          \"code\": \"claimSignature.insideValidity\",\n",
      "          \"url\": \"self#jumbf=/c2pa/urn:uuid:3636070ba33f4e2d85bbd5076e88de8a/c2pa.signature\",\n",
      "          \"explanation\": \"claim signature valid\"\n",
      "        },\n",
      "        {\n",
      "          \"code\": \"claimSignature.validated\",\n",
      "          \"url\": \"self#jumbf=/c2pa/urn:uuid:3636070ba33f4e2d85bbd5076e88de8a/c2pa.signature\",\n",
      "          \"explanation\": \"claim signature valid\"\n",
      "        },\n",
      "        {\n",
      "          \"code\": \"assertion.hashedURI.match\",\n",
      "          \"url\": \"self#jumbf=/c2pa/urn:uuid:3636070ba33f4e2d85bbd5076e88de8a/c2pa.assertions/stds.schema-org.CreativeWork\",\n",
      "          \"explanation\": \"hashed uri matched: self#jumbf=/c2pa/urn:uuid:3636070ba33f4e2d85bbd5076e88de8a/c2pa.assertions/stds.schema-org.CreativeWork\"\n",
      "        },\n",
      "        {\n",
      "          \"code\": \"assertion.hashedURI.match\",\n",
      "          \"url\": \"self#jumbf=/c2pa/urn:uuid:3636070ba33f4e2d85bbd5076e88de8a/c2pa.assertions/c2pa.hash.data\",\n",
      "          \"explanation\": \"hashed uri matched: self#jumbf=/c2pa/urn:uuid:3636070ba33f4e2d85bbd5076e88de8a/c2pa.assertions/c2pa.hash.data\"\n",
      "        },\n",
      "        {\n",
      "          \"code\": \"assertion.dataHash.match\",\n",
      "          \"url\": \"self#jumbf=/c2pa/urn:uuid:3636070ba33f4e2d85bbd5076e88de8a/c2pa.assertions/c2pa.hash.data\",\n",
      "          \"explanation\": \"data hash valid\"\n",
      "        }\n",
      "      ],\n",
      "      \"informational\": [],\n",
      "      \"failure\": []\n",
      "    }\n",
      "  },\n",
      "  \"validation_state\": \"Valid\"\n",
      "}\n"
     ]
    }
   ],
   "source": [
    "# Validation\n",
    "!c2patool \"../test_files/signed_test_image.jpg\""
   ]
  },
  {
   "cell_type": "code",
   "execution_count": null,
   "id": "59383258-3ac4-4a16-9eae-16eb3ae21bb4",
   "metadata": {},
   "outputs": [],
   "source": []
  }
 ],
 "metadata": {
  "kernelspec": {
   "display_name": "Python 3 (ipykernel)",
   "language": "python",
   "name": "python3"
  },
  "language_info": {
   "codemirror_mode": {
    "name": "ipython",
    "version": 3
   },
   "file_extension": ".py",
   "mimetype": "text/x-python",
   "name": "python",
   "nbconvert_exporter": "python",
   "pygments_lexer": "ipython3",
   "version": "3.13.7"
  }
 },
 "nbformat": 4,
 "nbformat_minor": 5
}
