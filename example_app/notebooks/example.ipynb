{
 "cells": [
  {
   "cell_type": "code",
   "execution_count": 2,
   "id": "ef7040bc-9a8a-4fa9-b39b-75ca9c9b64d3",
   "metadata": {},
   "outputs": [
    {
     "name": "stdout",
     "output_type": "stream",
     "text": [
      "Successfully signed the file ../test_files/test_image.jpg!\n",
      "The result was saved to ../test_files/signed_test_image.jpg.\n"
     ]
    }
   ],
   "source": [
    "!c2pie sign --input_file ../test_files/test_image.jpg"
   ]
  },
  {
   "cell_type": "code",
   "execution_count": null,
   "id": "9fd55f54-1937-48e5-ac6d-284fef052d30",
   "metadata": {},
   "outputs": [],
   "source": []
  }
 ],
 "metadata": {
  "kernelspec": {
   "display_name": "Python 3 (ipykernel)",
   "language": "python",
   "name": "python3"
  },
  "language_info": {
   "codemirror_mode": {
    "name": "ipython",
    "version": 3
   },
   "file_extension": ".py",
   "mimetype": "text/x-python",
   "name": "python",
   "nbconvert_exporter": "python",
   "pygments_lexer": "ipython3",
   "version": "3.13.7"
  }
 },
 "nbformat": 4,
 "nbformat_minor": 5
}
